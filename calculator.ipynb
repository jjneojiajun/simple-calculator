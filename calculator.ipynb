{
 "cells": [
  {
   "cell_type": "code",
   "execution_count": 1,
   "metadata": {},
   "outputs": [],
   "source": [
    "def calculator():\n",
    "\n",
    "    aNumber = 0\n",
    "    bNumber = 0\n",
    "    operation = \"\"\n",
    "    valid = 0\n",
    "    \n",
    "    while aNumber == 0 or aNumber is None:\n",
    "        aNumber = int(input(\"Please enter a number for A: \"))\n",
    "        \n",
    "    while bNumber == 0 or bNumber is None:\n",
    "        bNumber = int(input(\"Please enter a number for B: \"))\n",
    "        \n",
    "    while operation is None or operation == \"\" or valid == 0:\n",
    "        operation = input(\"Please enter an operation: \")\n",
    "\n",
    "        if operation == \"+\":\n",
    "            total = aNumber + bNumber\n",
    "            valid = 1\n",
    "        elif operation == \"-\":\n",
    "            total = aNumber - bNumber\n",
    "            valid = 1\n",
    "        elif operation == \"*\":\n",
    "            total = aNumber * bNumber\n",
    "            valid = 1\n",
    "        elif operation == \"/\":\n",
    "            total = aNumber / bNumber\n",
    "            valid = 1\n",
    "    \n",
    "    return total"
   ]
  },
  {
   "cell_type": "code",
   "execution_count": 4,
   "metadata": {},
   "outputs": [
    {
     "name": "stdout",
     "output_type": "stream",
     "text": [
      "Please enter a number for A: 10\n",
      "Please enter a number for B: 50\n",
      "Please enter an operation: *\n",
      "500\n"
     ]
    }
   ],
   "source": [
    "total = calculator()\n",
    "print(total)"
   ]
  },
  {
   "cell_type": "code",
   "execution_count": null,
   "metadata": {
    "collapsed": true
   },
   "outputs": [],
   "source": []
  }
 ],
 "metadata": {
  "kernelspec": {
   "display_name": "Python 3",
   "language": "python",
   "name": "python3"
  },
  "language_info": {
   "codemirror_mode": {
    "name": "ipython",
    "version": 3
   },
   "file_extension": ".py",
   "mimetype": "text/x-python",
   "name": "python",
   "nbconvert_exporter": "python",
   "pygments_lexer": "ipython3",
   "version": "3.6.3"
  }
 },
 "nbformat": 4,
 "nbformat_minor": 2
}
